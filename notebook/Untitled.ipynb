{
 "cells": [
  {
   "cell_type": "code",
   "execution_count": 1,
   "id": "b08de8cc",
   "metadata": {},
   "outputs": [],
   "source": [
    "import pandas as pd\n",
    "from matplotlib import pyplot as plt"
   ]
  },
  {
   "cell_type": "code",
   "execution_count": 4,
   "id": "b7fbd193",
   "metadata": {},
   "outputs": [],
   "source": [
    "bird = pd.read_csv('../data/bird.csv')"
   ]
  },
  {
   "cell_type": "code",
   "execution_count": 5,
   "id": "9742a594",
   "metadata": {},
   "outputs": [],
   "source": [
    "trips = pd.read_csv('../data/trips.csv')"
   ]
  },
  {
   "cell_type": "code",
   "execution_count": 6,
   "id": "c58c6cba",
   "metadata": {},
   "outputs": [],
   "source": [
    "gotcha = pd.read_csv('../data/gotcha.csv')"
   ]
  },
  {
   "cell_type": "code",
   "execution_count": 7,
   "id": "2109fbd5",
   "metadata": {},
   "outputs": [],
   "source": [
    "bolt = pd.read_csv('../data/bolt.csv')"
   ]
  },
  {
   "cell_type": "code",
   "execution_count": null,
   "id": "dd5dcd05",
   "metadata": {},
   "outputs": [],
   "source": []
  }
 ],
 "metadata": {
  "kernelspec": {
   "display_name": "Python [conda env:scooters]",
   "language": "python",
   "name": "conda-env-scooters-py"
  },
  "language_info": {
   "codemirror_mode": {
    "name": "ipython",
    "version": 3
   },
   "file_extension": ".py",
   "mimetype": "text/x-python",
   "name": "python",
   "nbconvert_exporter": "python",
   "pygments_lexer": "ipython3",
   "version": "3.10.14"
  }
 },
 "nbformat": 4,
 "nbformat_minor": 5
}
